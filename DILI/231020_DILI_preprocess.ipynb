{
 "cells": [
  {
   "cell_type": "code",
   "execution_count": 1,
   "metadata": {},
   "outputs": [
    {
     "name": "stdout",
     "output_type": "stream",
     "text": [
      "2023.03.2\n"
     ]
    }
   ],
   "source": [
    "from rdkit import rdBase, Chem, DataStructs\n",
    "from rdkit.Avalon import pyAvalonTools\n",
    "from rdkit.Chem import AllChem\n",
    "from rdkit.Chem.Fingerprints import FingerprintMols\n",
    "from rdkit.Chem.AtomPairs import Pairs, Torsions\n",
    "print(rdBase.rdkitVersion) # 2020.09.3"
   ]
  },
  {
   "cell_type": "code",
   "execution_count": 2,
   "metadata": {},
   "outputs": [],
   "source": [
    "import pandas as pd\n",
    "df = pd.read_csv(\"/workspace/tamokuteki/DILIrank-DILIscore_List.csv\")"
   ]
  },
  {
   "cell_type": "code",
   "execution_count": 3,
   "metadata": {},
   "outputs": [],
   "source": [
    "import pubchempy as pcp"
   ]
  },
  {
   "cell_type": "code",
   "execution_count": 4,
   "metadata": {},
   "outputs": [],
   "source": [
    "from rdkit.Chem import Crippen"
   ]
  },
  {
   "cell_type": "code",
   "execution_count": 5,
   "metadata": {},
   "outputs": [],
   "source": [
    "from rdkit.Chem import Descriptors"
   ]
  },
  {
   "cell_type": "code",
   "execution_count": null,
   "metadata": {},
   "outputs": [],
   "source": [
    "tsv = []\n",
    "midashi  = [\"name\", 'MolecularFormula', 'MolecularWeight', 'CanonicalSMILES', 'IUPACName', 'LogP', 'TPSA', \"fp\"]\n",
    "\n",
    "for i in range(len(df)):\n",
    "    col = []\n",
    "    name = df.iloc[i,1]\n",
    "    sev = df.iloc[i,2]\n",
    "    properties = ['MolecularFormula', 'MolecularWeight', 'CanonicalSMILES', 'IUPACName']\n",
    "    k = pcp.get_properties(properties, name, 'name')\n",
    "    try:\n",
    "        result = k[0]\n",
    "        if len(result) != 5:\n",
    "            continue\n",
    "    except:\n",
    "        continue\n",
    "    smiles = result[\"CanonicalSMILES\"]\n",
    "    mol = Chem.MolFromSmiles(smiles)\n",
    "    \n",
    "    metal = 0\n",
    "    #filter 金属原子をのぞく\n",
    "    for atom in mol.GetAtoms():\n",
    "        if atom.GetAtomicNum() in [1,2,5,6,7,8,9,10,14,15,16,17,18,33,34,35,36,52,53,54,85]:\n",
    "            continue\n",
    "        else:\n",
    "            metal += 100\n",
    "    \n",
    "    if metal >= 100:\n",
    "        print(smiles)\n",
    "        continue\n",
    "\n",
    "\n",
    "    logp = Crippen.MolLogP(mol)\n",
    "    tpsa = Descriptors.TPSA(mol)\n",
    "    a = AllChem.GetMorganFingerprintAsBitVect(mol, radius=2, nBits=2048)\n",
    "    col.append(name)\n",
    "    col.append(sev)\n",
    "    for n in result.keys():\n",
    "        col.append(result[n])\n",
    "    col.append(logp)\n",
    "    col.append(tpsa)\n",
    "    col.append(a)\n",
    "    tsv.append(col)\n",
    "    \n",
    "    del smiles\n",
    "    del result\n",
    "    del mol\n",
    "    del logp\n",
    "    del tpsa\n",
    "    del a"
   ]
  },
  {
   "cell_type": "code",
   "execution_count": null,
   "metadata": {},
   "outputs": [],
   "source": [
    "midashi  = [\"name\",\"severity\", \"CID\", 'MolecularFormula', 'MolecularWeight', 'CanonicalSMILES', 'IUPACName', 'LogP', 'TPSA', \"fp\"]"
   ]
  },
  {
   "cell_type": "code",
   "execution_count": null,
   "metadata": {},
   "outputs": [],
   "source": [
    "pd.DataFrame(tsv).to_csv('/workspace/tamokuteki/231103_use.tsv', sep=\"\\t\", header=midashi, index=False)"
   ]
  }
 ],
 "metadata": {
  "kernelspec": {
   "display_name": "base",
   "language": "python",
   "name": "python3"
  },
  "language_info": {
   "codemirror_mode": {
    "name": "ipython",
    "version": 3
   },
   "file_extension": ".py",
   "mimetype": "text/x-python",
   "name": "python",
   "nbconvert_exporter": "python",
   "pygments_lexer": "ipython3",
   "version": "3.7.11"
  },
  "orig_nbformat": 4
 },
 "nbformat": 4,
 "nbformat_minor": 2
}
