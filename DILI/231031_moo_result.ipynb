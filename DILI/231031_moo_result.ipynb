{
 "cells": [
  {
   "cell_type": "code",
   "execution_count": null,
   "metadata": {},
   "outputs": [],
   "source": [
    "#個体の各遺伝子を決めるために使用\n",
    "import random\n",
    "#DEAPの中にある必要なモジュールをインポート\n",
    "from deap import base\n",
    "from deap import creator\n",
    "from deap import tools\n",
    "from deap import algorithms\n",
    "\n",
    "import pandas as pd"
   ]
  },
  {
   "cell_type": "code",
   "execution_count": null,
   "metadata": {},
   "outputs": [],
   "source": [
    "from rdkit import rdBase, Chem, DataStructs\n",
    "from numpy import dot \n",
    "from numpy.linalg import norm \n",
    "import itertools\n",
    "import pubchempy as pcp\n",
    "from rdkit import rdBase, Chem, DataStructs\n",
    "from rdkit.Avalon import pyAvalonTools\n",
    "from rdkit.Chem import AllChem\n",
    "from rdkit.Chem.Fingerprints import FingerprintMols\n",
    "from rdkit.Chem.AtomPairs import Pairs, Torsions"
   ]
  },
  {
   "cell_type": "code",
   "execution_count": null,
   "metadata": {},
   "outputs": [],
   "source": [
    "import numpy"
   ]
  },
  {
   "cell_type": "code",
   "execution_count": null,
   "metadata": {},
   "outputs": [],
   "source": [
    "import pandas as pd\n",
    "trys = 23\n",
    "scores = pd.read_csv(f\"/workspace/tamokuteki/231102_result_{trys}_score.tsv\", sep=\"\\t\", index_col=0)\n",
    "\n",
    "m_tani = []\n",
    "s_tani = []\n",
    "m_butsu = []\n",
    "s_butsu = []\n",
    "m_tox = []\n",
    "s_tox = []\n",
    "m_mw = []\n",
    "s_mw = []\n",
    "\n",
    "for i in range(10, 1000):\n",
    "    m_tani.append(scores.iloc[i,0])\n",
    "    s_tani.append(scores.iloc[i,1])\n",
    "    m_butsu.append(scores.iloc[i,2])\n",
    "    s_butsu.append(scores.iloc[i,3])\n",
    "    m_tox.append(scores.iloc[i,4])\n",
    "    s_tox.append(scores.iloc[i,5])\n",
    "    #m_mw.append(scores.iloc[i,6])\n",
    "    #s_mw.append(scores.iloc[i,7])\n",
    "\n",
    "import matplotlib.pyplot as plt\n",
    "import seaborn as sns\n",
    "import numpy as np\n",
    "import pandas as pd\n",
    " \n",
    "plt.style.use('default')\n",
    "sns.set()\n",
    "sns.set_style('whitegrid')\n",
    "sns.set_palette('Set1')\n",
    "\n",
    "x = list(range(11,1001))\n",
    "\n",
    "fig_1 = plt.figure()\n",
    "ax_1 = fig_1.add_subplot(1, 1, 1)\n",
    "\n",
    "fig_2 = plt.figure()\n",
    "ax_2 = fig_2.add_subplot(1, 1, 1)\n",
    "\n",
    "#fig_3 = plt.figure()\n",
    "#ax_3 = fig_3.add_subplot(1, 1, 1)\n",
    "\n",
    "ax_1.plot(x, m_tani, label='tanimoto', color= \"blue\")\n",
    "#ax_1.errorbar(x, m_tani, yerr=s_tani, marker='o', capthick=1, capsize=10, lw=1)\n",
    "ax_1.plot(x, m_butsu, label='bussei', color=\"orange\")\n",
    "#ax_1.errorbar(x, m_butsu, yerr=s_butsu, marker='o', capthick=1, capsize=10, lw=1)\n",
    "ax_2.plot(x, m_tox, label='tox')\n",
    "#ax_2.errorbar(x, m_tox, yerr=s_tox, marker='o', capthick=1, capsize=10, lw=1)\n",
    "#ax_3.plot(x, m_mw, label=\"MW\")\n",
    "#ax_3.errorbar(x, m_mw, yerr=s_mw, marker='o', capthick=1, capsize=10, lw=1)\n",
    "\n",
    "plt.show()"
   ]
  }
 ],
 "metadata": {
  "language_info": {
   "name": "python"
  },
  "orig_nbformat": 4
 },
 "nbformat": 4,
 "nbformat_minor": 2
}
